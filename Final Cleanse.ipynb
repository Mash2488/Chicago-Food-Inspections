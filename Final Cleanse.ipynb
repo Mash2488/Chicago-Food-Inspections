{
 "cells": [
  {
   "cell_type": "code",
   "execution_count": 2,
   "id": "17480691-56cf-4cbe-b18a-f102dd17513b",
   "metadata": {},
   "outputs": [],
   "source": [
    "import numpy as np\n",
    "import pandas as pd\n",
    "import matplotlib.pyplot as plt\n",
    "import seaborn as sns"
   ]
  },
  {
   "cell_type": "code",
   "execution_count": 40,
   "id": "d1590cbc-293c-4deb-929a-a058ab903977",
   "metadata": {
    "scrolled": true
   },
   "outputs": [
    {
     "data": {
      "text/html": [
       "<div>\n",
       "<style scoped>\n",
       "    .dataframe tbody tr th:only-of-type {\n",
       "        vertical-align: middle;\n",
       "    }\n",
       "\n",
       "    .dataframe tbody tr th {\n",
       "        vertical-align: top;\n",
       "    }\n",
       "\n",
       "    .dataframe thead th {\n",
       "        text-align: right;\n",
       "    }\n",
       "</style>\n",
       "<table border=\"1\" class=\"dataframe\">\n",
       "  <thead>\n",
       "    <tr style=\"text-align: right;\">\n",
       "      <th></th>\n",
       "      <th>inspection_id</th>\n",
       "      <th>dba_name</th>\n",
       "      <th>aka_name</th>\n",
       "      <th>license_#</th>\n",
       "      <th>facility_type</th>\n",
       "      <th>risk</th>\n",
       "      <th>address</th>\n",
       "      <th>city</th>\n",
       "      <th>state</th>\n",
       "      <th>zip</th>\n",
       "      <th>inspection_date</th>\n",
       "      <th>inspection_type</th>\n",
       "      <th>results</th>\n",
       "      <th>violations</th>\n",
       "      <th>latitude</th>\n",
       "      <th>longitude</th>\n",
       "      <th>location</th>\n",
       "      <th>has_violations</th>\n",
       "    </tr>\n",
       "  </thead>\n",
       "  <tbody>\n",
       "    <tr>\n",
       "      <th>0</th>\n",
       "      <td>1170324</td>\n",
       "      <td>CAPTAIN HOOKS FISH &amp; CHICKEN/FIREHOUSE GRILL</td>\n",
       "      <td>CAPTAIN HOOKS FISH &amp; CHICKEN FIREHOUSE GRILL</td>\n",
       "      <td>1804138</td>\n",
       "      <td>Restaurant</td>\n",
       "      <td>Risk 1 (High)</td>\n",
       "      <td>5648 W ROOSEVELT</td>\n",
       "      <td>CHICAGO</td>\n",
       "      <td>IL</td>\n",
       "      <td>60644</td>\n",
       "      <td>2012-06-18</td>\n",
       "      <td>Complaint</td>\n",
       "      <td>Pass w/ Conditions</td>\n",
       "      <td>21. * CERTIFIED FOOD MANAGER ON SITE WHEN POTE...</td>\n",
       "      <td>41.865679</td>\n",
       "      <td>-87.766331</td>\n",
       "      <td>(41.86567851033532, -87.76633113301574)</td>\n",
       "      <td>True</td>\n",
       "    </tr>\n",
       "    <tr>\n",
       "      <th>1</th>\n",
       "      <td>2614750</td>\n",
       "      <td>CHICK-FIL-A PULLMAN</td>\n",
       "      <td>CHICK-FIL-A PULLMAN</td>\n",
       "      <td>3015728</td>\n",
       "      <td>Restaurant</td>\n",
       "      <td>Risk 1 (High)</td>\n",
       "      <td>11131 S CORLISS AVE</td>\n",
       "      <td>CHICAGO</td>\n",
       "      <td>IL</td>\n",
       "      <td>60628</td>\n",
       "      <td>2025-03-31</td>\n",
       "      <td>License</td>\n",
       "      <td>Pass</td>\n",
       "      <td>58. ALLERGEN TRAINING AS REQUIRED - Comments: ...</td>\n",
       "      <td>41.691956</td>\n",
       "      <td>-87.600558</td>\n",
       "      <td>(41.69195600663339, -87.60055824712973)</td>\n",
       "      <td>True</td>\n",
       "    </tr>\n",
       "    <tr>\n",
       "      <th>2</th>\n",
       "      <td>2609909</td>\n",
       "      <td>HAPPY MARKET</td>\n",
       "      <td>HAPPY MARKET</td>\n",
       "      <td>2912802</td>\n",
       "      <td>Grocery Store</td>\n",
       "      <td>Risk 2 (Medium)</td>\n",
       "      <td>2334 S WENTWORTH AVE</td>\n",
       "      <td>CHICAGO</td>\n",
       "      <td>IL</td>\n",
       "      <td>60616</td>\n",
       "      <td>2025-01-02</td>\n",
       "      <td>Canvass</td>\n",
       "      <td>Pass w/ Conditions</td>\n",
       "      <td>2. CITY OF CHICAGO FOOD SERVICE SANITATION CER...</td>\n",
       "      <td>41.849954</td>\n",
       "      <td>-87.632094</td>\n",
       "      <td>(41.84995400192252, -87.63209419559098)</td>\n",
       "      <td>True</td>\n",
       "    </tr>\n",
       "    <tr>\n",
       "      <th>3</th>\n",
       "      <td>2609927</td>\n",
       "      <td>SAT KAIVAL FOOD INC/SUBWAY</td>\n",
       "      <td>SAT KAIVAL FOOD INC/SUBWAY</td>\n",
       "      <td>2728400</td>\n",
       "      <td>Restaurant</td>\n",
       "      <td>Risk 1 (High)</td>\n",
       "      <td>1916 S STATE ST</td>\n",
       "      <td>CHICAGO</td>\n",
       "      <td>IL</td>\n",
       "      <td>60616</td>\n",
       "      <td>2025-01-02</td>\n",
       "      <td>Canvass</td>\n",
       "      <td>Pass</td>\n",
       "      <td>36. THERMOMETERS PROVIDED &amp; ACCURATE - Comment...</td>\n",
       "      <td>41.856053</td>\n",
       "      <td>-87.627311</td>\n",
       "      <td>(41.85605269621059, -87.62731125804903)</td>\n",
       "      <td>True</td>\n",
       "    </tr>\n",
       "    <tr>\n",
       "      <th>4</th>\n",
       "      <td>2615511</td>\n",
       "      <td>MAPLEWOOD BREWING COMPANY</td>\n",
       "      <td>MAPLEWOOD BREWING COMPANY</td>\n",
       "      <td>3016105</td>\n",
       "      <td>Liquor</td>\n",
       "      <td>Risk 3 (Low)</td>\n",
       "      <td>2717-2719 N MAPLEWOOD AVE</td>\n",
       "      <td>CHICAGO</td>\n",
       "      <td>IL</td>\n",
       "      <td>60647</td>\n",
       "      <td>2025-04-10</td>\n",
       "      <td>License</td>\n",
       "      <td>Pass</td>\n",
       "      <td>56. ADEQUATE VENTILATION &amp; LIGHTING; DESIGNATE...</td>\n",
       "      <td>41.930957</td>\n",
       "      <td>-87.691376</td>\n",
       "      <td>(41.93095692249829, -87.69137628601092)</td>\n",
       "      <td>True</td>\n",
       "    </tr>\n",
       "  </tbody>\n",
       "</table>\n",
       "</div>"
      ],
      "text/plain": [
       "   inspection_id                                      dba_name  \\\n",
       "0        1170324  CAPTAIN HOOKS FISH & CHICKEN/FIREHOUSE GRILL   \n",
       "1        2614750                           CHICK-FIL-A PULLMAN   \n",
       "2        2609909                                  HAPPY MARKET   \n",
       "3        2609927                    SAT KAIVAL FOOD INC/SUBWAY   \n",
       "4        2615511                     MAPLEWOOD BREWING COMPANY   \n",
       "\n",
       "                                       aka_name license_#  facility_type  \\\n",
       "0  CAPTAIN HOOKS FISH & CHICKEN FIREHOUSE GRILL   1804138     Restaurant   \n",
       "1                           CHICK-FIL-A PULLMAN   3015728     Restaurant   \n",
       "2                                  HAPPY MARKET   2912802  Grocery Store   \n",
       "3                    SAT KAIVAL FOOD INC/SUBWAY   2728400     Restaurant   \n",
       "4                     MAPLEWOOD BREWING COMPANY   3016105         Liquor   \n",
       "\n",
       "              risk                    address     city state    zip  \\\n",
       "0    Risk 1 (High)           5648 W ROOSEVELT  CHICAGO    IL  60644   \n",
       "1    Risk 1 (High)        11131 S CORLISS AVE  CHICAGO    IL  60628   \n",
       "2  Risk 2 (Medium)       2334 S WENTWORTH AVE  CHICAGO    IL  60616   \n",
       "3    Risk 1 (High)            1916 S STATE ST  CHICAGO    IL  60616   \n",
       "4     Risk 3 (Low)  2717-2719 N MAPLEWOOD AVE  CHICAGO    IL  60647   \n",
       "\n",
       "  inspection_date inspection_type             results  \\\n",
       "0      2012-06-18       Complaint  Pass w/ Conditions   \n",
       "1      2025-03-31         License                Pass   \n",
       "2      2025-01-02         Canvass  Pass w/ Conditions   \n",
       "3      2025-01-02         Canvass                Pass   \n",
       "4      2025-04-10         License                Pass   \n",
       "\n",
       "                                          violations   latitude  longitude  \\\n",
       "0  21. * CERTIFIED FOOD MANAGER ON SITE WHEN POTE...  41.865679 -87.766331   \n",
       "1  58. ALLERGEN TRAINING AS REQUIRED - Comments: ...  41.691956 -87.600558   \n",
       "2  2. CITY OF CHICAGO FOOD SERVICE SANITATION CER...  41.849954 -87.632094   \n",
       "3  36. THERMOMETERS PROVIDED & ACCURATE - Comment...  41.856053 -87.627311   \n",
       "4  56. ADEQUATE VENTILATION & LIGHTING; DESIGNATE...  41.930957 -87.691376   \n",
       "\n",
       "                                  location  has_violations  \n",
       "0  (41.86567851033532, -87.76633113301574)            True  \n",
       "1  (41.69195600663339, -87.60055824712973)            True  \n",
       "2  (41.84995400192252, -87.63209419559098)            True  \n",
       "3  (41.85605269621059, -87.62731125804903)            True  \n",
       "4  (41.93095692249829, -87.69137628601092)            True  "
      ]
     },
     "execution_count": 40,
     "metadata": {},
     "output_type": "execute_result"
    }
   ],
   "source": [
    "df = pd.read_csv('cleaned_chicago_food_inspection_V1.csv', dtype={'license_#':str, 'zip':str})\n",
    "df.head()"
   ]
  },
  {
   "cell_type": "code",
   "execution_count": 42,
   "id": "08d75d88-69b4-45da-aece-26556a1746a0",
   "metadata": {},
   "outputs": [
    {
     "data": {
      "text/plain": [
       "inspection_id          0\n",
       "dba_name               0\n",
       "aka_name               0\n",
       "license_#             18\n",
       "facility_type          0\n",
       "risk                   0\n",
       "address                0\n",
       "city                   0\n",
       "state                  0\n",
       "zip                   39\n",
       "inspection_date        0\n",
       "inspection_type        0\n",
       "results                0\n",
       "violations         80523\n",
       "latitude             992\n",
       "longitude            992\n",
       "location             992\n",
       "has_violations         0\n",
       "dtype: int64"
      ]
     },
     "execution_count": 42,
     "metadata": {},
     "output_type": "execute_result"
    }
   ],
   "source": [
    "df.isna().sum()"
   ]
  },
  {
   "cell_type": "code",
   "execution_count": 22,
   "id": "21c3a160-d407-45d3-af83-f1cf61015283",
   "metadata": {},
   "outputs": [
    {
     "data": {
      "text/plain": [
       "license_#    object\n",
       "zip          object\n",
       "dtype: object"
      ]
     },
     "execution_count": 22,
     "metadata": {},
     "output_type": "execute_result"
    }
   ],
   "source": [
    "df.dtypes[['license_#', 'zip']]\n"
   ]
  },
  {
   "cell_type": "code",
   "execution_count": 24,
   "id": "ad5cdd63-68ab-4ef1-9966-6971cb04f2e9",
   "metadata": {},
   "outputs": [],
   "source": [
    "df['license_#'] = df['license_#'].apply(lambda x: str(int(float(x))) if pd.notna(x) else pd.NA)\n",
    "df['zip'] = df['zip'].apply(lambda x: str(int(float(x))) if pd.notna(x) else pd.NA)\n"
   ]
  },
  {
   "cell_type": "code",
   "execution_count": 26,
   "id": "508ca570-0a3f-4a1c-a484-15a4b1a1c477",
   "metadata": {},
   "outputs": [
    {
     "data": {
      "text/plain": [
       "license_#    18\n",
       "zip          39\n",
       "dtype: int64"
      ]
     },
     "execution_count": 26,
     "metadata": {},
     "output_type": "execute_result"
    }
   ],
   "source": [
    "df[['license_#', 'zip']].isna().sum()\n"
   ]
  },
  {
   "cell_type": "code",
   "execution_count": 28,
   "id": "4fdbf611-9db0-4cef-b80b-118921db5907",
   "metadata": {},
   "outputs": [],
   "source": [
    "df['license_#'] = df['license_#'].replace(['nan', '<NA>'], pd.NA)\n",
    "df['zip'] = df['zip'].replace(['nan', '<NA>'], pd.NA)\n"
   ]
  },
  {
   "cell_type": "code",
   "execution_count": 30,
   "id": "5797d0f5-abb5-4d59-8489-c25518a78278",
   "metadata": {},
   "outputs": [],
   "source": [
    "df = df[df['license_#'].notna() & df['zip'].notna()]\n"
   ]
  },
  {
   "cell_type": "code",
   "execution_count": 32,
   "id": "aa001b59-ef8a-4127-82d7-8fbd9b4ca922",
   "metadata": {},
   "outputs": [],
   "source": [
    "df.to_csv('cleaned_chicago_food_inspections_v2.csv', index=False)\n"
   ]
  },
  {
   "cell_type": "code",
   "execution_count": null,
   "id": "899feb55-bcd5-41b4-8102-24325552eb06",
   "metadata": {},
   "outputs": [],
   "source": []
  }
 ],
 "metadata": {
  "kernelspec": {
   "display_name": "Python 3 (ipykernel)",
   "language": "python",
   "name": "python3"
  },
  "language_info": {
   "codemirror_mode": {
    "name": "ipython",
    "version": 3
   },
   "file_extension": ".py",
   "mimetype": "text/x-python",
   "name": "python",
   "nbconvert_exporter": "python",
   "pygments_lexer": "ipython3",
   "version": "3.12.7"
  }
 },
 "nbformat": 4,
 "nbformat_minor": 5
}
